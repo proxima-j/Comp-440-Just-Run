{
  "nbformat": 4,
  "nbformat_minor": 0,
  "metadata": {
    "colab": {
      "provenance": [],
      "include_colab_link": true
    },
    "kernelspec": {
      "name": "python3",
      "display_name": "Python 3"
    },
    "language_info": {
      "name": "python"
    }
  },
  "cells": [
    {
      "cell_type": "markdown",
      "metadata": {
        "id": "view-in-github",
        "colab_type": "text"
      },
      "source": [
        "<a href=\"https://colab.research.google.com/github/proxima-j/Comp-440-Just-Run/blob/main/BERT_Visualization.ipynb\" target=\"_parent\"><img src=\"https://colab.research.google.com/assets/colab-badge.svg\" alt=\"Open In Colab\"/></a>"
      ]
    },
    {
      "cell_type": "markdown",
      "source": [
        "# Set UP"
      ],
      "metadata": {
        "id": "9xL2W6qbadHF"
      }
    },
    {
      "cell_type": "code",
      "execution_count": null,
      "metadata": {
        "id": "eVadRVasVFUZ"
      },
      "outputs": [],
      "source": [
        "import altair as alt\n",
        "import pandas as pd\n",
        "from altair import datum"
      ]
    },
    {
      "cell_type": "code",
      "source": [
        "# mount google dirve\n",
        "from google.colab import drive\n",
        "drive.mount(\"/content/drive\", force_remount=True)"
      ],
      "metadata": {
        "colab": {
          "base_uri": "https://localhost:8080/"
        },
        "id": "ZePe9tm9WCzK",
        "outputId": "8578b1b9-c340-4e07-cd82-8b1e6f219402"
      },
      "execution_count": null,
      "outputs": [
        {
          "output_type": "stream",
          "name": "stdout",
          "text": [
            "Mounted at /content/drive\n"
          ]
        }
      ]
    },
    {
      "cell_type": "markdown",
      "source": [
        "# Read in Dataset"
      ],
      "metadata": {
        "id": "j27sRR3nagup"
      }
    },
    {
      "cell_type": "code",
      "source": [
        "bert = pd.read_csv(\"/content/drive/Shareddrives/Comp440/articles txt version/BERT_cos_sin.csv\")\n",
        "bert.head(5)\n",
        "bert_first = bert.loc[bert[\"Paragraph Order\"] == \"first\"]"
      ],
      "metadata": {
        "id": "3yW7VA7tW7ER"
      },
      "execution_count": null,
      "outputs": []
    },
    {
      "cell_type": "markdown",
      "source": [
        "# Creat Heat Map for the First Paragraph"
      ],
      "metadata": {
        "id": "tLrMo3UdamJO"
      }
    },
    {
      "cell_type": "code",
      "source": [
        "scales = alt.Scale(domain = [0.5,1.0],\n",
        "           range = ['#5587B4','#4E91CB','#6CA1DF','#9DDAF3','#BAE9FF','white','#F4C78F','#F58B21','#EE6C21'],\n",
        "           #range = ['#2B5C8A','#6CA1DF','white','#F58B21'],\n",
        "           #scheme = 'spectral',reverse = True, type = 'log'\n",
        ")\n",
        "\n",
        "base2 = alt.Chart(bert_first,title = '').mark_rect().encode(\n",
        "    alt.X('Articl1:O',title = None,axis=alt.Axis(labels=False,ticks=False,domain=False)),\n",
        "    alt.Y('Article2:O',title = None,axis=alt.Axis(labels=False,ticks=False,domain=False)),\n",
        "    tooltip = [\n",
        "               alt.Tooltip('generator'),\n",
        "               alt.Tooltip('Cosine Similarity')\n",
        "    ]\n",
        ").properties(width = 260,height = 180)\n",
        "\n",
        "map2 = base2.mark_rect(strokeWidth = 0.5, strokeCap = 'square').encode(\n",
        "    alt.Color('Cosine Similarity:Q',\n",
        "              scale = scales,\n",
        "              legend = alt.Legend(title=\"Cosine Similarity\",direction='horizontal',orient='top')),\n",
        "    stroke = alt.condition(\n",
        "        alt.datum.holiday == '0',\n",
        "        alt.value('transparent'), \n",
        "        alt.value('black')  \n",
        "    )\n",
        ")\n",
        "\n",
        "plot = (map2).facet(\n",
        "    column = alt.Facet('prompt:O',\n",
        "              #sort = alt.SortField(field='month:O',order='descending'),\n",
        "              title=None,\n",
        "              header=alt.Header(labelFontSize=15)),\n",
        "    row = alt.Facet('generator:O',\n",
        "              #sort = alt.SortField(field='month:O',order='descending'),\n",
        "              title=None,\n",
        "              header=alt.Header(labelFontSize=15)),\n",
        ").properties(\n",
        "    title={\n",
        "      'text': ['Similarity Between the First Paragraph'], \n",
        "      \"color\": \"black\",\n",
        "    }\n",
        ").configure_title(\n",
        "    fontSize = 24\n",
        ")"
      ],
      "metadata": {
        "id": "NwuyB1ObXoOX"
      },
      "execution_count": null,
      "outputs": []
    },
    {
      "cell_type": "code",
      "source": [
        "plot"
      ],
      "metadata": {
        "colab": {
          "base_uri": "https://localhost:8080/",
          "height": 533
        },
        "id": "Jp3y6mP5bDvS",
        "outputId": "71d3a387-5456-4a3e-eca2-38535bb963ec"
      },
      "execution_count": null,
      "outputs": [
        {
          "output_type": "execute_result",
          "data": {
            "text/html": [
              "\n",
              "<div id=\"altair-viz-9ef600c74e0c4d19b7f2e878266c5946\"></div>\n",
              "<script type=\"text/javascript\">\n",
              "  var VEGA_DEBUG = (typeof VEGA_DEBUG == \"undefined\") ? {} : VEGA_DEBUG;\n",
              "  (function(spec, embedOpt){\n",
              "    let outputDiv = document.currentScript.previousElementSibling;\n",
              "    if (outputDiv.id !== \"altair-viz-9ef600c74e0c4d19b7f2e878266c5946\") {\n",
              "      outputDiv = document.getElementById(\"altair-viz-9ef600c74e0c4d19b7f2e878266c5946\");\n",
              "    }\n",
              "    const paths = {\n",
              "      \"vega\": \"https://cdn.jsdelivr.net/npm//vega@5?noext\",\n",
              "      \"vega-lib\": \"https://cdn.jsdelivr.net/npm//vega-lib?noext\",\n",
              "      \"vega-lite\": \"https://cdn.jsdelivr.net/npm//vega-lite@4.17.0?noext\",\n",
              "      \"vega-embed\": \"https://cdn.jsdelivr.net/npm//vega-embed@6?noext\",\n",
              "    };\n",
              "\n",
              "    function maybeLoadScript(lib, version) {\n",
              "      var key = `${lib.replace(\"-\", \"\")}_version`;\n",
              "      return (VEGA_DEBUG[key] == version) ?\n",
              "        Promise.resolve(paths[lib]) :\n",
              "        new Promise(function(resolve, reject) {\n",
              "          var s = document.createElement('script');\n",
              "          document.getElementsByTagName(\"head\")[0].appendChild(s);\n",
              "          s.async = true;\n",
              "          s.onload = () => {\n",
              "            VEGA_DEBUG[key] = version;\n",
              "            return resolve(paths[lib]);\n",
              "          };\n",
              "          s.onerror = () => reject(`Error loading script: ${paths[lib]}`);\n",
              "          s.src = paths[lib];\n",
              "        });\n",
              "    }\n",
              "\n",
              "    function showError(err) {\n",
              "      outputDiv.innerHTML = `<div class=\"error\" style=\"color:red;\">${err}</div>`;\n",
              "      throw err;\n",
              "    }\n",
              "\n",
              "    function displayChart(vegaEmbed) {\n",
              "      vegaEmbed(outputDiv, spec, embedOpt)\n",
              "        .catch(err => showError(`Javascript Error: ${err.message}<br>This usually means there's a typo in your chart specification. See the javascript console for the full traceback.`));\n",
              "    }\n",
              "\n",
              "    if(typeof define === \"function\" && define.amd) {\n",
              "      requirejs.config({paths});\n",
              "      require([\"vega-embed\"], displayChart, err => showError(`Error loading script: ${err.message}`));\n",
              "    } else {\n",
              "      maybeLoadScript(\"vega\", \"5\")\n",
              "        .then(() => maybeLoadScript(\"vega-lite\", \"4.17.0\"))\n",
              "        .then(() => maybeLoadScript(\"vega-embed\", \"6\"))\n",
              "        .catch(showError)\n",
              "        .then(() => displayChart(vegaEmbed));\n",
              "    }\n",
              "  })({\"config\": {\"view\": {\"continuousWidth\": 400, \"continuousHeight\": 300}, \"title\": {\"fontSize\": 24}}, \"data\": {\"name\": \"data-ade3c59c66bd0facf9ec79e864d9faa1\"}, \"facet\": {\"column\": {\"field\": \"prompt\", \"header\": {\"labelFontSize\": 15}, \"title\": null, \"type\": \"ordinal\"}, \"row\": {\"field\": \"generator\", \"header\": {\"labelFontSize\": 15}, \"title\": null, \"type\": \"ordinal\"}}, \"spec\": {\"mark\": {\"type\": \"rect\", \"strokeCap\": \"square\", \"strokeWidth\": 0.5}, \"encoding\": {\"color\": {\"field\": \"Cosine Similarity\", \"legend\": {\"direction\": \"horizontal\", \"orient\": \"top\", \"title\": \"Cosine Similarity\"}, \"scale\": {\"domain\": [0.5, 1.0], \"range\": [\"#5587B4\", \"#4E91CB\", \"#6CA1DF\", \"#9DDAF3\", \"#BAE9FF\", \"white\", \"#F4C78F\", \"#F58B21\", \"#EE6C21\"]}, \"type\": \"quantitative\"}, \"stroke\": {\"condition\": {\"value\": \"transparent\", \"test\": \"(datum.holiday === '0')\"}, \"value\": \"black\"}, \"tooltip\": [{\"field\": \"generator\", \"type\": \"nominal\"}, {\"field\": \"Cosine Similarity\", \"type\": \"quantitative\"}], \"x\": {\"axis\": {\"domain\": false, \"labels\": false, \"ticks\": false}, \"field\": \"Articl1\", \"title\": null, \"type\": \"ordinal\"}, \"y\": {\"axis\": {\"domain\": false, \"labels\": false, \"ticks\": false}, \"field\": \"Article2\", \"title\": null, \"type\": \"ordinal\"}}, \"height\": 180, \"title\": \"\", \"width\": 260}, \"title\": {\"text\": [\"Similarity Between the First Paragraph\"], \"color\": \"black\"}, \"$schema\": \"https://vega.github.io/schema/vega-lite/v4.17.0.json\", \"datasets\": {\"data-ade3c59c66bd0facf9ec79e864d9faa1\": [{\"Articl1\": 1, \"Article2\": 1, \"Cosine Similarity\": 0.9999998, \"generator\": \"human\", \"prompt\": \"news\", \"Paragraph Order\": \"first\"}, {\"Articl1\": 1, \"Article2\": 2, \"Cosine Similarity\": 0.6340302, \"generator\": \"human\", \"prompt\": \"news\", \"Paragraph Order\": \"first\"}, {\"Articl1\": 1, \"Article2\": 3, \"Cosine Similarity\": 0.66883576, \"generator\": \"human\", \"prompt\": \"news\", \"Paragraph Order\": \"first\"}, {\"Articl1\": 1, \"Article2\": 4, \"Cosine Similarity\": 0.6182195, \"generator\": \"human\", \"prompt\": \"news\", \"Paragraph Order\": \"first\"}, {\"Articl1\": 1, \"Article2\": 5, \"Cosine Similarity\": 0.65978396, \"generator\": \"human\", \"prompt\": \"news\", \"Paragraph Order\": \"first\"}, {\"Articl1\": 2, \"Article2\": 1, \"Cosine Similarity\": 0.6340302, \"generator\": \"human\", \"prompt\": \"news\", \"Paragraph Order\": \"first\"}, {\"Articl1\": 2, \"Article2\": 2, \"Cosine Similarity\": 1.0, \"generator\": \"human\", \"prompt\": \"news\", \"Paragraph Order\": \"first\"}, {\"Articl1\": 2, \"Article2\": 3, \"Cosine Similarity\": 0.7526257, \"generator\": \"human\", \"prompt\": \"news\", \"Paragraph Order\": \"first\"}, {\"Articl1\": 2, \"Article2\": 4, \"Cosine Similarity\": 0.6871592, \"generator\": \"human\", \"prompt\": \"news\", \"Paragraph Order\": \"first\"}, {\"Articl1\": 2, \"Article2\": 5, \"Cosine Similarity\": 0.68711334, \"generator\": \"human\", \"prompt\": \"news\", \"Paragraph Order\": \"first\"}, {\"Articl1\": 3, \"Article2\": 1, \"Cosine Similarity\": 0.66883576, \"generator\": \"human\", \"prompt\": \"news\", \"Paragraph Order\": \"first\"}, {\"Articl1\": 3, \"Article2\": 2, \"Cosine Similarity\": 0.7526257, \"generator\": \"human\", \"prompt\": \"news\", \"Paragraph Order\": \"first\"}, {\"Articl1\": 3, \"Article2\": 3, \"Cosine Similarity\": 1.0, \"generator\": \"human\", \"prompt\": \"news\", \"Paragraph Order\": \"first\"}, {\"Articl1\": 3, \"Article2\": 4, \"Cosine Similarity\": 0.7814288, \"generator\": \"human\", \"prompt\": \"news\", \"Paragraph Order\": \"first\"}, {\"Articl1\": 3, \"Article2\": 5, \"Cosine Similarity\": 0.7446208, \"generator\": \"human\", \"prompt\": \"news\", \"Paragraph Order\": \"first\"}, {\"Articl1\": 4, \"Article2\": 1, \"Cosine Similarity\": 0.6182195, \"generator\": \"human\", \"prompt\": \"news\", \"Paragraph Order\": \"first\"}, {\"Articl1\": 4, \"Article2\": 2, \"Cosine Similarity\": 0.6871592, \"generator\": \"human\", \"prompt\": \"news\", \"Paragraph Order\": \"first\"}, {\"Articl1\": 4, \"Article2\": 3, \"Cosine Similarity\": 0.7814288, \"generator\": \"human\", \"prompt\": \"news\", \"Paragraph Order\": \"first\"}, {\"Articl1\": 4, \"Article2\": 4, \"Cosine Similarity\": 0.9999999, \"generator\": \"human\", \"prompt\": \"news\", \"Paragraph Order\": \"first\"}, {\"Articl1\": 4, \"Article2\": 5, \"Cosine Similarity\": 0.7051719, \"generator\": \"human\", \"prompt\": \"news\", \"Paragraph Order\": \"first\"}, {\"Articl1\": 5, \"Article2\": 1, \"Cosine Similarity\": 0.65978396, \"generator\": \"human\", \"prompt\": \"news\", \"Paragraph Order\": \"first\"}, {\"Articl1\": 5, \"Article2\": 2, \"Cosine Similarity\": 0.68711334, \"generator\": \"human\", \"prompt\": \"news\", \"Paragraph Order\": \"first\"}, {\"Articl1\": 5, \"Article2\": 3, \"Cosine Similarity\": 0.7446208, \"generator\": \"human\", \"prompt\": \"news\", \"Paragraph Order\": \"first\"}, {\"Articl1\": 5, \"Article2\": 4, \"Cosine Similarity\": 0.7051719, \"generator\": \"human\", \"prompt\": \"news\", \"Paragraph Order\": \"first\"}, {\"Articl1\": 5, \"Article2\": 5, \"Cosine Similarity\": 1.0000002, \"generator\": \"human\", \"prompt\": \"news\", \"Paragraph Order\": \"first\"}, {\"Articl1\": 1, \"Article2\": 1, \"Cosine Similarity\": 1.0000002, \"generator\": \"ai\", \"prompt\": \"news\", \"Paragraph Order\": \"first\"}, {\"Articl1\": 1, \"Article2\": 2, \"Cosine Similarity\": 0.7815379, \"generator\": \"ai\", \"prompt\": \"news\", \"Paragraph Order\": \"first\"}, {\"Articl1\": 1, \"Article2\": 3, \"Cosine Similarity\": 0.76800275, \"generator\": \"ai\", \"prompt\": \"news\", \"Paragraph Order\": \"first\"}, {\"Articl1\": 1, \"Article2\": 4, \"Cosine Similarity\": 0.7303219, \"generator\": \"ai\", \"prompt\": \"news\", \"Paragraph Order\": \"first\"}, {\"Articl1\": 1, \"Article2\": 5, \"Cosine Similarity\": 0.7973425, \"generator\": \"ai\", \"prompt\": \"news\", \"Paragraph Order\": \"first\"}, {\"Articl1\": 2, \"Article2\": 1, \"Cosine Similarity\": 0.7815379, \"generator\": \"ai\", \"prompt\": \"news\", \"Paragraph Order\": \"first\"}, {\"Articl1\": 2, \"Article2\": 2, \"Cosine Similarity\": 0.99999964, \"generator\": \"ai\", \"prompt\": \"news\", \"Paragraph Order\": \"first\"}, {\"Articl1\": 2, \"Article2\": 3, \"Cosine Similarity\": 0.7824398, \"generator\": \"ai\", \"prompt\": \"news\", \"Paragraph Order\": \"first\"}, {\"Articl1\": 2, \"Article2\": 4, \"Cosine Similarity\": 0.7415173, \"generator\": \"ai\", \"prompt\": \"news\", \"Paragraph Order\": \"first\"}, {\"Articl1\": 2, \"Article2\": 5, \"Cosine Similarity\": 0.80243814, \"generator\": \"ai\", \"prompt\": \"news\", \"Paragraph Order\": \"first\"}, {\"Articl1\": 3, \"Article2\": 1, \"Cosine Similarity\": 0.76800275, \"generator\": \"ai\", \"prompt\": \"news\", \"Paragraph Order\": \"first\"}, {\"Articl1\": 3, \"Article2\": 2, \"Cosine Similarity\": 0.7824398, \"generator\": \"ai\", \"prompt\": \"news\", \"Paragraph Order\": \"first\"}, {\"Articl1\": 3, \"Article2\": 3, \"Cosine Similarity\": 1.0000001, \"generator\": \"ai\", \"prompt\": \"news\", \"Paragraph Order\": \"first\"}, {\"Articl1\": 3, \"Article2\": 4, \"Cosine Similarity\": 0.79143715, \"generator\": \"ai\", \"prompt\": \"news\", \"Paragraph Order\": \"first\"}, {\"Articl1\": 3, \"Article2\": 5, \"Cosine Similarity\": 0.8084477, \"generator\": \"ai\", \"prompt\": \"news\", \"Paragraph Order\": \"first\"}, {\"Articl1\": 4, \"Article2\": 1, \"Cosine Similarity\": 0.7303219, \"generator\": \"ai\", \"prompt\": \"news\", \"Paragraph Order\": \"first\"}, {\"Articl1\": 4, \"Article2\": 2, \"Cosine Similarity\": 0.7415173, \"generator\": \"ai\", \"prompt\": \"news\", \"Paragraph Order\": \"first\"}, {\"Articl1\": 4, \"Article2\": 3, \"Cosine Similarity\": 0.79143715, \"generator\": \"ai\", \"prompt\": \"news\", \"Paragraph Order\": \"first\"}, {\"Articl1\": 4, \"Article2\": 4, \"Cosine Similarity\": 1.0, \"generator\": \"ai\", \"prompt\": \"news\", \"Paragraph Order\": \"first\"}, {\"Articl1\": 4, \"Article2\": 5, \"Cosine Similarity\": 0.78140974, \"generator\": \"ai\", \"prompt\": \"news\", \"Paragraph Order\": \"first\"}, {\"Articl1\": 5, \"Article2\": 1, \"Cosine Similarity\": 0.7973425, \"generator\": \"ai\", \"prompt\": \"news\", \"Paragraph Order\": \"first\"}, {\"Articl1\": 5, \"Article2\": 2, \"Cosine Similarity\": 0.80243814, \"generator\": \"ai\", \"prompt\": \"news\", \"Paragraph Order\": \"first\"}, {\"Articl1\": 5, \"Article2\": 3, \"Cosine Similarity\": 0.8084477, \"generator\": \"ai\", \"prompt\": \"news\", \"Paragraph Order\": \"first\"}, {\"Articl1\": 5, \"Article2\": 4, \"Cosine Similarity\": 0.78140974, \"generator\": \"ai\", \"prompt\": \"news\", \"Paragraph Order\": \"first\"}, {\"Articl1\": 5, \"Article2\": 5, \"Cosine Similarity\": 1.0, \"generator\": \"ai\", \"prompt\": \"news\", \"Paragraph Order\": \"first\"}, {\"Articl1\": 1, \"Article2\": 1, \"Cosine Similarity\": 0.9999997, \"generator\": \"ai\", \"prompt\": \"blog\", \"Paragraph Order\": \"first\"}, {\"Articl1\": 1, \"Article2\": 2, \"Cosine Similarity\": 0.83455443, \"generator\": \"ai\", \"prompt\": \"blog\", \"Paragraph Order\": \"first\"}, {\"Articl1\": 1, \"Article2\": 3, \"Cosine Similarity\": 0.84597635, \"generator\": \"ai\", \"prompt\": \"blog\", \"Paragraph Order\": \"first\"}, {\"Articl1\": 1, \"Article2\": 4, \"Cosine Similarity\": 0.8130499, \"generator\": \"ai\", \"prompt\": \"blog\", \"Paragraph Order\": \"first\"}, {\"Articl1\": 1, \"Article2\": 5, \"Cosine Similarity\": 0.7700089, \"generator\": \"ai\", \"prompt\": \"blog\", \"Paragraph Order\": \"first\"}, {\"Articl1\": 2, \"Article2\": 1, \"Cosine Similarity\": 0.83455443, \"generator\": \"ai\", \"prompt\": \"blog\", \"Paragraph Order\": \"first\"}, {\"Articl1\": 2, \"Article2\": 2, \"Cosine Similarity\": 0.9999999, \"generator\": \"ai\", \"prompt\": \"blog\", \"Paragraph Order\": \"first\"}, {\"Articl1\": 2, \"Article2\": 3, \"Cosine Similarity\": 0.90765166, \"generator\": \"ai\", \"prompt\": \"blog\", \"Paragraph Order\": \"first\"}, {\"Articl1\": 2, \"Article2\": 4, \"Cosine Similarity\": 0.8514345, \"generator\": \"ai\", \"prompt\": \"blog\", \"Paragraph Order\": \"first\"}, {\"Articl1\": 2, \"Article2\": 5, \"Cosine Similarity\": 0.8168063, \"generator\": \"ai\", \"prompt\": \"blog\", \"Paragraph Order\": \"first\"}, {\"Articl1\": 3, \"Article2\": 1, \"Cosine Similarity\": 0.84597635, \"generator\": \"ai\", \"prompt\": \"blog\", \"Paragraph Order\": \"first\"}, {\"Articl1\": 3, \"Article2\": 2, \"Cosine Similarity\": 0.90765166, \"generator\": \"ai\", \"prompt\": \"blog\", \"Paragraph Order\": \"first\"}, {\"Articl1\": 3, \"Article2\": 3, \"Cosine Similarity\": 1.0000002, \"generator\": \"ai\", \"prompt\": \"blog\", \"Paragraph Order\": \"first\"}, {\"Articl1\": 3, \"Article2\": 4, \"Cosine Similarity\": 0.86591035, \"generator\": \"ai\", \"prompt\": \"blog\", \"Paragraph Order\": \"first\"}, {\"Articl1\": 3, \"Article2\": 5, \"Cosine Similarity\": 0.7843293, \"generator\": \"ai\", \"prompt\": \"blog\", \"Paragraph Order\": \"first\"}, {\"Articl1\": 4, \"Article2\": 1, \"Cosine Similarity\": 0.8130499, \"generator\": \"ai\", \"prompt\": \"blog\", \"Paragraph Order\": \"first\"}, {\"Articl1\": 4, \"Article2\": 2, \"Cosine Similarity\": 0.8514345, \"generator\": \"ai\", \"prompt\": \"blog\", \"Paragraph Order\": \"first\"}, {\"Articl1\": 4, \"Article2\": 3, \"Cosine Similarity\": 0.86591035, \"generator\": \"ai\", \"prompt\": \"blog\", \"Paragraph Order\": \"first\"}, {\"Articl1\": 4, \"Article2\": 4, \"Cosine Similarity\": 1.0, \"generator\": \"ai\", \"prompt\": \"blog\", \"Paragraph Order\": \"first\"}, {\"Articl1\": 4, \"Article2\": 5, \"Cosine Similarity\": 0.7983811, \"generator\": \"ai\", \"prompt\": \"blog\", \"Paragraph Order\": \"first\"}, {\"Articl1\": 5, \"Article2\": 1, \"Cosine Similarity\": 0.7700089, \"generator\": \"ai\", \"prompt\": \"blog\", \"Paragraph Order\": \"first\"}, {\"Articl1\": 5, \"Article2\": 2, \"Cosine Similarity\": 0.8168063, \"generator\": \"ai\", \"prompt\": \"blog\", \"Paragraph Order\": \"first\"}, {\"Articl1\": 5, \"Article2\": 3, \"Cosine Similarity\": 0.7843293, \"generator\": \"ai\", \"prompt\": \"blog\", \"Paragraph Order\": \"first\"}, {\"Articl1\": 5, \"Article2\": 4, \"Cosine Similarity\": 0.7983811, \"generator\": \"ai\", \"prompt\": \"blog\", \"Paragraph Order\": \"first\"}, {\"Articl1\": 5, \"Article2\": 5, \"Cosine Similarity\": 0.99999994, \"generator\": \"ai\", \"prompt\": \"blog\", \"Paragraph Order\": \"first\"}, {\"Articl1\": 1, \"Article2\": 1, \"Cosine Similarity\": 1.0000002, \"generator\": \"human\", \"prompt\": \"blog\", \"Paragraph Order\": \"first\"}, {\"Articl1\": 1, \"Article2\": 2, \"Cosine Similarity\": 0.81315696, \"generator\": \"human\", \"prompt\": \"blog\", \"Paragraph Order\": \"first\"}, {\"Articl1\": 1, \"Article2\": 3, \"Cosine Similarity\": 0.86787254, \"generator\": \"human\", \"prompt\": \"blog\", \"Paragraph Order\": \"first\"}, {\"Articl1\": 1, \"Article2\": 4, \"Cosine Similarity\": 0.70307034, \"generator\": \"human\", \"prompt\": \"blog\", \"Paragraph Order\": \"first\"}, {\"Articl1\": 1, \"Article2\": 5, \"Cosine Similarity\": 0.8389391, \"generator\": \"human\", \"prompt\": \"blog\", \"Paragraph Order\": \"first\"}, {\"Articl1\": 2, \"Article2\": 1, \"Cosine Similarity\": 0.81315696, \"generator\": \"human\", \"prompt\": \"blog\", \"Paragraph Order\": \"first\"}, {\"Articl1\": 2, \"Article2\": 2, \"Cosine Similarity\": 0.9999998, \"generator\": \"human\", \"prompt\": \"blog\", \"Paragraph Order\": \"first\"}, {\"Articl1\": 2, \"Article2\": 3, \"Cosine Similarity\": 0.8028681, \"generator\": \"human\", \"prompt\": \"blog\", \"Paragraph Order\": \"first\"}, {\"Articl1\": 2, \"Article2\": 4, \"Cosine Similarity\": 0.6883632, \"generator\": \"human\", \"prompt\": \"blog\", \"Paragraph Order\": \"first\"}, {\"Articl1\": 2, \"Article2\": 5, \"Cosine Similarity\": 0.8040545, \"generator\": \"human\", \"prompt\": \"blog\", \"Paragraph Order\": \"first\"}, {\"Articl1\": 3, \"Article2\": 1, \"Cosine Similarity\": 0.86787254, \"generator\": \"human\", \"prompt\": \"blog\", \"Paragraph Order\": \"first\"}, {\"Articl1\": 3, \"Article2\": 2, \"Cosine Similarity\": 0.8028681, \"generator\": \"human\", \"prompt\": \"blog\", \"Paragraph Order\": \"first\"}, {\"Articl1\": 3, \"Article2\": 3, \"Cosine Similarity\": 0.9999998, \"generator\": \"human\", \"prompt\": \"blog\", \"Paragraph Order\": \"first\"}, {\"Articl1\": 3, \"Article2\": 4, \"Cosine Similarity\": 0.6784016, \"generator\": \"human\", \"prompt\": \"blog\", \"Paragraph Order\": \"first\"}, {\"Articl1\": 3, \"Article2\": 5, \"Cosine Similarity\": 0.8104316, \"generator\": \"human\", \"prompt\": \"blog\", \"Paragraph Order\": \"first\"}, {\"Articl1\": 4, \"Article2\": 1, \"Cosine Similarity\": 0.70307034, \"generator\": \"human\", \"prompt\": \"blog\", \"Paragraph Order\": \"first\"}, {\"Articl1\": 4, \"Article2\": 2, \"Cosine Similarity\": 0.6883632, \"generator\": \"human\", \"prompt\": \"blog\", \"Paragraph Order\": \"first\"}, {\"Articl1\": 4, \"Article2\": 3, \"Cosine Similarity\": 0.6784016, \"generator\": \"human\", \"prompt\": \"blog\", \"Paragraph Order\": \"first\"}, {\"Articl1\": 4, \"Article2\": 4, \"Cosine Similarity\": 0.9999999, \"generator\": \"human\", \"prompt\": \"blog\", \"Paragraph Order\": \"first\"}, {\"Articl1\": 4, \"Article2\": 5, \"Cosine Similarity\": 0.6991564, \"generator\": \"human\", \"prompt\": \"blog\", \"Paragraph Order\": \"first\"}, {\"Articl1\": 5, \"Article2\": 1, \"Cosine Similarity\": 0.8389391, \"generator\": \"human\", \"prompt\": \"blog\", \"Paragraph Order\": \"first\"}, {\"Articl1\": 5, \"Article2\": 2, \"Cosine Similarity\": 0.8040545, \"generator\": \"human\", \"prompt\": \"blog\", \"Paragraph Order\": \"first\"}, {\"Articl1\": 5, \"Article2\": 3, \"Cosine Similarity\": 0.8104316, \"generator\": \"human\", \"prompt\": \"blog\", \"Paragraph Order\": \"first\"}, {\"Articl1\": 5, \"Article2\": 4, \"Cosine Similarity\": 0.6991564, \"generator\": \"human\", \"prompt\": \"blog\", \"Paragraph Order\": \"first\"}, {\"Articl1\": 5, \"Article2\": 5, \"Cosine Similarity\": 1.0, \"generator\": \"human\", \"prompt\": \"blog\", \"Paragraph Order\": \"first\"}, {\"Articl1\": 1, \"Article2\": 1, \"Cosine Similarity\": 0.9999999, \"generator\": \"ai\", \"prompt\": \"exam\", \"Paragraph Order\": \"first\"}, {\"Articl1\": 1, \"Article2\": 2, \"Cosine Similarity\": 0.84401727, \"generator\": \"ai\", \"prompt\": \"exam\", \"Paragraph Order\": \"first\"}, {\"Articl1\": 1, \"Article2\": 3, \"Cosine Similarity\": 0.81735605, \"generator\": \"ai\", \"prompt\": \"exam\", \"Paragraph Order\": \"first\"}, {\"Articl1\": 1, \"Article2\": 4, \"Cosine Similarity\": 0.7708478, \"generator\": \"ai\", \"prompt\": \"exam\", \"Paragraph Order\": \"first\"}, {\"Articl1\": 1, \"Article2\": 5, \"Cosine Similarity\": 0.84273386, \"generator\": \"ai\", \"prompt\": \"exam\", \"Paragraph Order\": \"first\"}, {\"Articl1\": 2, \"Article2\": 1, \"Cosine Similarity\": 0.84401727, \"generator\": \"ai\", \"prompt\": \"exam\", \"Paragraph Order\": \"first\"}, {\"Articl1\": 2, \"Article2\": 2, \"Cosine Similarity\": 0.9999998, \"generator\": \"ai\", \"prompt\": \"exam\", \"Paragraph Order\": \"first\"}, {\"Articl1\": 2, \"Article2\": 3, \"Cosine Similarity\": 0.87615746, \"generator\": \"ai\", \"prompt\": \"exam\", \"Paragraph Order\": \"first\"}, {\"Articl1\": 2, \"Article2\": 4, \"Cosine Similarity\": 0.90382934, \"generator\": \"ai\", \"prompt\": \"exam\", \"Paragraph Order\": \"first\"}, {\"Articl1\": 2, \"Article2\": 5, \"Cosine Similarity\": 0.916162, \"generator\": \"ai\", \"prompt\": \"exam\", \"Paragraph Order\": \"first\"}, {\"Articl1\": 3, \"Article2\": 1, \"Cosine Similarity\": 0.81735605, \"generator\": \"ai\", \"prompt\": \"exam\", \"Paragraph Order\": \"first\"}, {\"Articl1\": 3, \"Article2\": 2, \"Cosine Similarity\": 0.87615746, \"generator\": \"ai\", \"prompt\": \"exam\", \"Paragraph Order\": \"first\"}, {\"Articl1\": 3, \"Article2\": 3, \"Cosine Similarity\": 0.99999994, \"generator\": \"ai\", \"prompt\": \"exam\", \"Paragraph Order\": \"first\"}, {\"Articl1\": 3, \"Article2\": 4, \"Cosine Similarity\": 0.91919684, \"generator\": \"ai\", \"prompt\": \"exam\", \"Paragraph Order\": \"first\"}, {\"Articl1\": 3, \"Article2\": 5, \"Cosine Similarity\": 0.88013774, \"generator\": \"ai\", \"prompt\": \"exam\", \"Paragraph Order\": \"first\"}, {\"Articl1\": 4, \"Article2\": 1, \"Cosine Similarity\": 0.7708478, \"generator\": \"ai\", \"prompt\": \"exam\", \"Paragraph Order\": \"first\"}, {\"Articl1\": 4, \"Article2\": 2, \"Cosine Similarity\": 0.90382934, \"generator\": \"ai\", \"prompt\": \"exam\", \"Paragraph Order\": \"first\"}, {\"Articl1\": 4, \"Article2\": 3, \"Cosine Similarity\": 0.91919684, \"generator\": \"ai\", \"prompt\": \"exam\", \"Paragraph Order\": \"first\"}, {\"Articl1\": 4, \"Article2\": 4, \"Cosine Similarity\": 1.0000002, \"generator\": \"ai\", \"prompt\": \"exam\", \"Paragraph Order\": \"first\"}, {\"Articl1\": 4, \"Article2\": 5, \"Cosine Similarity\": 0.9019925, \"generator\": \"ai\", \"prompt\": \"exam\", \"Paragraph Order\": \"first\"}, {\"Articl1\": 5, \"Article2\": 1, \"Cosine Similarity\": 0.84273386, \"generator\": \"ai\", \"prompt\": \"exam\", \"Paragraph Order\": \"first\"}, {\"Articl1\": 5, \"Article2\": 2, \"Cosine Similarity\": 0.916162, \"generator\": \"ai\", \"prompt\": \"exam\", \"Paragraph Order\": \"first\"}, {\"Articl1\": 5, \"Article2\": 3, \"Cosine Similarity\": 0.88013774, \"generator\": \"ai\", \"prompt\": \"exam\", \"Paragraph Order\": \"first\"}, {\"Articl1\": 5, \"Article2\": 4, \"Cosine Similarity\": 0.9019925, \"generator\": \"ai\", \"prompt\": \"exam\", \"Paragraph Order\": \"first\"}, {\"Articl1\": 5, \"Article2\": 5, \"Cosine Similarity\": 1.0, \"generator\": \"ai\", \"prompt\": \"exam\", \"Paragraph Order\": \"first\"}, {\"Articl1\": 1, \"Article2\": 1, \"Cosine Similarity\": 1.0000002, \"generator\": \"human\", \"prompt\": \"exam\", \"Paragraph Order\": \"first\"}, {\"Articl1\": 1, \"Article2\": 2, \"Cosine Similarity\": 0.8012216, \"generator\": \"human\", \"prompt\": \"exam\", \"Paragraph Order\": \"first\"}, {\"Articl1\": 1, \"Article2\": 3, \"Cosine Similarity\": 0.7734709, \"generator\": \"human\", \"prompt\": \"exam\", \"Paragraph Order\": \"first\"}, {\"Articl1\": 1, \"Article2\": 4, \"Cosine Similarity\": 0.77016306, \"generator\": \"human\", \"prompt\": \"exam\", \"Paragraph Order\": \"first\"}, {\"Articl1\": 1, \"Article2\": 5, \"Cosine Similarity\": 0.78519726, \"generator\": \"human\", \"prompt\": \"exam\", \"Paragraph Order\": \"first\"}, {\"Articl1\": 2, \"Article2\": 1, \"Cosine Similarity\": 0.8012216, \"generator\": \"human\", \"prompt\": \"exam\", \"Paragraph Order\": \"first\"}, {\"Articl1\": 2, \"Article2\": 2, \"Cosine Similarity\": 0.9999998, \"generator\": \"human\", \"prompt\": \"exam\", \"Paragraph Order\": \"first\"}, {\"Articl1\": 2, \"Article2\": 3, \"Cosine Similarity\": 0.7904727, \"generator\": \"human\", \"prompt\": \"exam\", \"Paragraph Order\": \"first\"}, {\"Articl1\": 2, \"Article2\": 4, \"Cosine Similarity\": 0.8125462, \"generator\": \"human\", \"prompt\": \"exam\", \"Paragraph Order\": \"first\"}, {\"Articl1\": 2, \"Article2\": 5, \"Cosine Similarity\": 0.87770736, \"generator\": \"human\", \"prompt\": \"exam\", \"Paragraph Order\": \"first\"}, {\"Articl1\": 3, \"Article2\": 1, \"Cosine Similarity\": 0.7734709, \"generator\": \"human\", \"prompt\": \"exam\", \"Paragraph Order\": \"first\"}, {\"Articl1\": 3, \"Article2\": 2, \"Cosine Similarity\": 0.7904727, \"generator\": \"human\", \"prompt\": \"exam\", \"Paragraph Order\": \"first\"}, {\"Articl1\": 3, \"Article2\": 3, \"Cosine Similarity\": 1.0000002, \"generator\": \"human\", \"prompt\": \"exam\", \"Paragraph Order\": \"first\"}, {\"Articl1\": 3, \"Article2\": 4, \"Cosine Similarity\": 0.76663935, \"generator\": \"human\", \"prompt\": \"exam\", \"Paragraph Order\": \"first\"}, {\"Articl1\": 3, \"Article2\": 5, \"Cosine Similarity\": 0.8232793, \"generator\": \"human\", \"prompt\": \"exam\", \"Paragraph Order\": \"first\"}, {\"Articl1\": 4, \"Article2\": 1, \"Cosine Similarity\": 0.77016306, \"generator\": \"human\", \"prompt\": \"exam\", \"Paragraph Order\": \"first\"}, {\"Articl1\": 4, \"Article2\": 2, \"Cosine Similarity\": 0.8125462, \"generator\": \"human\", \"prompt\": \"exam\", \"Paragraph Order\": \"first\"}, {\"Articl1\": 4, \"Article2\": 3, \"Cosine Similarity\": 0.76663935, \"generator\": \"human\", \"prompt\": \"exam\", \"Paragraph Order\": \"first\"}, {\"Articl1\": 4, \"Article2\": 4, \"Cosine Similarity\": 1.0000002, \"generator\": \"human\", \"prompt\": \"exam\", \"Paragraph Order\": \"first\"}, {\"Articl1\": 4, \"Article2\": 5, \"Cosine Similarity\": 0.8123207, \"generator\": \"human\", \"prompt\": \"exam\", \"Paragraph Order\": \"first\"}, {\"Articl1\": 5, \"Article2\": 1, \"Cosine Similarity\": 0.78519726, \"generator\": \"human\", \"prompt\": \"exam\", \"Paragraph Order\": \"first\"}, {\"Articl1\": 5, \"Article2\": 2, \"Cosine Similarity\": 0.87770736, \"generator\": \"human\", \"prompt\": \"exam\", \"Paragraph Order\": \"first\"}, {\"Articl1\": 5, \"Article2\": 3, \"Cosine Similarity\": 0.8232793, \"generator\": \"human\", \"prompt\": \"exam\", \"Paragraph Order\": \"first\"}, {\"Articl1\": 5, \"Article2\": 4, \"Cosine Similarity\": 0.8123207, \"generator\": \"human\", \"prompt\": \"exam\", \"Paragraph Order\": \"first\"}, {\"Articl1\": 5, \"Article2\": 5, \"Cosine Similarity\": 1.0, \"generator\": \"human\", \"prompt\": \"exam\", \"Paragraph Order\": \"first\"}]}}, {\"mode\": \"vega-lite\"});\n",
              "</script>"
            ],
            "text/plain": [
              "alt.FacetChart(...)"
            ]
          },
          "metadata": {},
          "execution_count": 6
        }
      ]
    },
    {
      "cell_type": "markdown",
      "source": [
        "# Creat Heat Map for the Last Paragraph"
      ],
      "metadata": {
        "id": "h-1-05_1atHy"
      }
    },
    {
      "cell_type": "code",
      "source": [
        "bert_last = bert.loc[bert[\"Paragraph Order\"] == \"last\"]\n",
        "scales = alt.Scale(domain = [0.5,1.0],\n",
        "           range = ['#5587B4','#4E91CB','#6CA1DF','#9DDAF3','#BAE9FF','white','#F4C78F','#F58B21','#EE6C21'],\n",
        "           #range = ['#2B5C8A','#6CA1DF','white','#F58B21'],\n",
        "           #scheme = 'spectral',reverse = True, type = 'log'\n",
        ")\n",
        "\n",
        "base2 = alt.Chart(bert_last,title = '').mark_rect().encode(\n",
        "    alt.X('Articl1:O',title = None,axis=alt.Axis(labels=False,ticks=False,domain=False)),\n",
        "    alt.Y('Article2:O',title = None,axis=alt.Axis(labels=False,ticks=False,domain=False)),\n",
        "    tooltip = [\n",
        "               alt.Tooltip('generator'),\n",
        "               alt.Tooltip('Cosine Similarity')\n",
        "    ]\n",
        ").properties(width = 260,height = 180)\n",
        "\n",
        "map2 = base2.mark_rect(strokeWidth = 0.5, strokeCap = 'square').encode(\n",
        "    alt.Color('Cosine Similarity:Q',\n",
        "              scale = scales,\n",
        "              legend = alt.Legend(title=\"Cosine Similarity\",direction='horizontal',orient='top')),\n",
        "    stroke = alt.condition(\n",
        "        alt.datum.holiday == '0',\n",
        "        alt.value('transparent'), \n",
        "        alt.value('black')  \n",
        "    )\n",
        ")\n",
        "\n",
        "last = (map2).facet(\n",
        "    column = alt.Facet('prompt:O',\n",
        "              #sort = alt.SortField(field='month:O',order='descending'),\n",
        "              title=None,\n",
        "              header=alt.Header(labelFontSize=15)),\n",
        "    row = alt.Facet('generator:O',\n",
        "              #sort = alt.SortField(field='month:O',order='descending'),\n",
        "              title=None,\n",
        "              header=alt.Header(labelFontSize=15)),\n",
        ").properties(\n",
        "    title={\n",
        "      'text': ['Similarity Between the Last Paragraph'], \n",
        "      \"color\": \"black\",\n",
        "    }\n",
        ").configure_title(\n",
        "    fontSize = 24\n",
        ")"
      ],
      "metadata": {
        "id": "ykwblS0qeITo"
      },
      "execution_count": null,
      "outputs": []
    },
    {
      "cell_type": "markdown",
      "source": [
        "# Save the Map as HTML"
      ],
      "metadata": {
        "id": "UdZBDivPaxJm"
      }
    },
    {
      "cell_type": "code",
      "source": [
        "last.save(\"last.html\")\n",
        "\n",
        "from google.colab import files\n",
        "\n",
        "files.download('last.html')"
      ],
      "metadata": {
        "colab": {
          "base_uri": "https://localhost:8080/",
          "height": 17
        },
        "id": "4FtwMkaYbF3e",
        "outputId": "9f68d1bb-b023-4186-8809-89031ba353c2"
      },
      "execution_count": null,
      "outputs": [
        {
          "output_type": "display_data",
          "data": {
            "text/plain": [
              "<IPython.core.display.Javascript object>"
            ],
            "application/javascript": [
              "\n",
              "    async function download(id, filename, size) {\n",
              "      if (!google.colab.kernel.accessAllowed) {\n",
              "        return;\n",
              "      }\n",
              "      const div = document.createElement('div');\n",
              "      const label = document.createElement('label');\n",
              "      label.textContent = `Downloading \"${filename}\": `;\n",
              "      div.appendChild(label);\n",
              "      const progress = document.createElement('progress');\n",
              "      progress.max = size;\n",
              "      div.appendChild(progress);\n",
              "      document.body.appendChild(div);\n",
              "\n",
              "      const buffers = [];\n",
              "      let downloaded = 0;\n",
              "\n",
              "      const channel = await google.colab.kernel.comms.open(id);\n",
              "      // Send a message to notify the kernel that we're ready.\n",
              "      channel.send({})\n",
              "\n",
              "      for await (const message of channel.messages) {\n",
              "        // Send a message to notify the kernel that we're ready.\n",
              "        channel.send({})\n",
              "        if (message.buffers) {\n",
              "          for (const buffer of message.buffers) {\n",
              "            buffers.push(buffer);\n",
              "            downloaded += buffer.byteLength;\n",
              "            progress.value = downloaded;\n",
              "          }\n",
              "        }\n",
              "      }\n",
              "      const blob = new Blob(buffers, {type: 'application/binary'});\n",
              "      const a = document.createElement('a');\n",
              "      a.href = window.URL.createObjectURL(blob);\n",
              "      a.download = filename;\n",
              "      div.appendChild(a);\n",
              "      a.click();\n",
              "      div.remove();\n",
              "    }\n",
              "  "
            ]
          },
          "metadata": {}
        },
        {
          "output_type": "display_data",
          "data": {
            "text/plain": [
              "<IPython.core.display.Javascript object>"
            ],
            "application/javascript": [
              "download(\"download_92aca171-d128-42be-8d31-59f83a8112e1\", \"last.html\", 21837)"
            ]
          },
          "metadata": {}
        }
      ]
    }
  ]
}