{
  "nbformat": 4,
  "nbformat_minor": 0,
  "metadata": {
    "colab": {
      "provenance": [],
      "include_colab_link": true
    },
    "kernelspec": {
      "name": "python3",
      "display_name": "Python 3"
    },
    "language_info": {
      "name": "python"
    }
  },
  "cells": [
    {
      "cell_type": "markdown",
      "metadata": {
        "id": "view-in-github",
        "colab_type": "text"
      },
      "source": [
        "<a href=\"https://colab.research.google.com/github/proxima-j/Comp-440-Just-Run/blob/main/Untitled2.ipynb\" target=\"_parent\"><img src=\"https://colab.research.google.com/assets/colab-badge.svg\" alt=\"Open In Colab\"/></a>"
      ]
    },
    {
      "cell_type": "code",
      "execution_count": null,
      "metadata": {
        "id": "eVadRVasVFUZ"
      },
      "outputs": [],
      "source": [
        "import altair as alt\n",
        "import pandas as pd\n",
        "from altair import datum"
      ]
    },
    {
      "cell_type": "code",
      "source": [
        "# mount google dirve\n",
        "from google.colab import drive\n",
        "drive.mount(\"/content/drive\", force_remount=True)"
      ],
      "metadata": {
        "colab": {
          "base_uri": "https://localhost:8080/"
        },
        "id": "ZePe9tm9WCzK",
        "outputId": "e96cbe4b-c3eb-403e-c7d9-6755dcc2fcc7"
      },
      "execution_count": null,
      "outputs": [
        {
          "output_type": "stream",
          "name": "stdout",
          "text": [
            "Mounted at /content/drive\n"
          ]
        }
      ]
    },
    {
      "cell_type": "code",
      "source": [
        "bert = pd.read_csv(\"/content/drive/Shareddrives/Comp440/articles txt version/BERT_cos_sin.csv\")\n",
        "bert.head(5)\n",
        "bert.filter()"
      ],
      "metadata": {
        "colab": {
          "base_uri": "https://localhost:8080/",
          "height": 206
        },
        "id": "3yW7VA7tW7ER",
        "outputId": "de2c1e69-b101-4d42-a53e-7823a1831662"
      },
      "execution_count": null,
      "outputs": [
        {
          "output_type": "execute_result",
          "data": {
            "text/plain": [
              "   Articl1  Article2  Cosine Similarity generator prompt Paragraph Order\n",
              "0        1         1           1.000000     human   news           first\n",
              "1        1         2           0.634030     human   news           first\n",
              "2        1         3           0.668836     human   news           first\n",
              "3        1         4           0.618220     human   news           first\n",
              "4        1         5           0.659784     human   news           first"
            ],
            "text/html": [
              "\n",
              "  <div id=\"df-949e5479-babb-4583-8ded-e4f0e2180fe7\">\n",
              "    <div class=\"colab-df-container\">\n",
              "      <div>\n",
              "<style scoped>\n",
              "    .dataframe tbody tr th:only-of-type {\n",
              "        vertical-align: middle;\n",
              "    }\n",
              "\n",
              "    .dataframe tbody tr th {\n",
              "        vertical-align: top;\n",
              "    }\n",
              "\n",
              "    .dataframe thead th {\n",
              "        text-align: right;\n",
              "    }\n",
              "</style>\n",
              "<table border=\"1\" class=\"dataframe\">\n",
              "  <thead>\n",
              "    <tr style=\"text-align: right;\">\n",
              "      <th></th>\n",
              "      <th>Articl1</th>\n",
              "      <th>Article2</th>\n",
              "      <th>Cosine Similarity</th>\n",
              "      <th>generator</th>\n",
              "      <th>prompt</th>\n",
              "      <th>Paragraph Order</th>\n",
              "    </tr>\n",
              "  </thead>\n",
              "  <tbody>\n",
              "    <tr>\n",
              "      <th>0</th>\n",
              "      <td>1</td>\n",
              "      <td>1</td>\n",
              "      <td>1.000000</td>\n",
              "      <td>human</td>\n",
              "      <td>news</td>\n",
              "      <td>first</td>\n",
              "    </tr>\n",
              "    <tr>\n",
              "      <th>1</th>\n",
              "      <td>1</td>\n",
              "      <td>2</td>\n",
              "      <td>0.634030</td>\n",
              "      <td>human</td>\n",
              "      <td>news</td>\n",
              "      <td>first</td>\n",
              "    </tr>\n",
              "    <tr>\n",
              "      <th>2</th>\n",
              "      <td>1</td>\n",
              "      <td>3</td>\n",
              "      <td>0.668836</td>\n",
              "      <td>human</td>\n",
              "      <td>news</td>\n",
              "      <td>first</td>\n",
              "    </tr>\n",
              "    <tr>\n",
              "      <th>3</th>\n",
              "      <td>1</td>\n",
              "      <td>4</td>\n",
              "      <td>0.618220</td>\n",
              "      <td>human</td>\n",
              "      <td>news</td>\n",
              "      <td>first</td>\n",
              "    </tr>\n",
              "    <tr>\n",
              "      <th>4</th>\n",
              "      <td>1</td>\n",
              "      <td>5</td>\n",
              "      <td>0.659784</td>\n",
              "      <td>human</td>\n",
              "      <td>news</td>\n",
              "      <td>first</td>\n",
              "    </tr>\n",
              "  </tbody>\n",
              "</table>\n",
              "</div>\n",
              "      <button class=\"colab-df-convert\" onclick=\"convertToInteractive('df-949e5479-babb-4583-8ded-e4f0e2180fe7')\"\n",
              "              title=\"Convert this dataframe to an interactive table.\"\n",
              "              style=\"display:none;\">\n",
              "        \n",
              "  <svg xmlns=\"http://www.w3.org/2000/svg\" height=\"24px\"viewBox=\"0 0 24 24\"\n",
              "       width=\"24px\">\n",
              "    <path d=\"M0 0h24v24H0V0z\" fill=\"none\"/>\n",
              "    <path d=\"M18.56 5.44l.94 2.06.94-2.06 2.06-.94-2.06-.94-.94-2.06-.94 2.06-2.06.94zm-11 1L8.5 8.5l.94-2.06 2.06-.94-2.06-.94L8.5 2.5l-.94 2.06-2.06.94zm10 10l.94 2.06.94-2.06 2.06-.94-2.06-.94-.94-2.06-.94 2.06-2.06.94z\"/><path d=\"M17.41 7.96l-1.37-1.37c-.4-.4-.92-.59-1.43-.59-.52 0-1.04.2-1.43.59L10.3 9.45l-7.72 7.72c-.78.78-.78 2.05 0 2.83L4 21.41c.39.39.9.59 1.41.59.51 0 1.02-.2 1.41-.59l7.78-7.78 2.81-2.81c.8-.78.8-2.07 0-2.86zM5.41 20L4 18.59l7.72-7.72 1.47 1.35L5.41 20z\"/>\n",
              "  </svg>\n",
              "      </button>\n",
              "      \n",
              "  <style>\n",
              "    .colab-df-container {\n",
              "      display:flex;\n",
              "      flex-wrap:wrap;\n",
              "      gap: 12px;\n",
              "    }\n",
              "\n",
              "    .colab-df-convert {\n",
              "      background-color: #E8F0FE;\n",
              "      border: none;\n",
              "      border-radius: 50%;\n",
              "      cursor: pointer;\n",
              "      display: none;\n",
              "      fill: #1967D2;\n",
              "      height: 32px;\n",
              "      padding: 0 0 0 0;\n",
              "      width: 32px;\n",
              "    }\n",
              "\n",
              "    .colab-df-convert:hover {\n",
              "      background-color: #E2EBFA;\n",
              "      box-shadow: 0px 1px 2px rgba(60, 64, 67, 0.3), 0px 1px 3px 1px rgba(60, 64, 67, 0.15);\n",
              "      fill: #174EA6;\n",
              "    }\n",
              "\n",
              "    [theme=dark] .colab-df-convert {\n",
              "      background-color: #3B4455;\n",
              "      fill: #D2E3FC;\n",
              "    }\n",
              "\n",
              "    [theme=dark] .colab-df-convert:hover {\n",
              "      background-color: #434B5C;\n",
              "      box-shadow: 0px 1px 3px 1px rgba(0, 0, 0, 0.15);\n",
              "      filter: drop-shadow(0px 1px 2px rgba(0, 0, 0, 0.3));\n",
              "      fill: #FFFFFF;\n",
              "    }\n",
              "  </style>\n",
              "\n",
              "      <script>\n",
              "        const buttonEl =\n",
              "          document.querySelector('#df-949e5479-babb-4583-8ded-e4f0e2180fe7 button.colab-df-convert');\n",
              "        buttonEl.style.display =\n",
              "          google.colab.kernel.accessAllowed ? 'block' : 'none';\n",
              "\n",
              "        async function convertToInteractive(key) {\n",
              "          const element = document.querySelector('#df-949e5479-babb-4583-8ded-e4f0e2180fe7');\n",
              "          const dataTable =\n",
              "            await google.colab.kernel.invokeFunction('convertToInteractive',\n",
              "                                                     [key], {});\n",
              "          if (!dataTable) return;\n",
              "\n",
              "          const docLinkHtml = 'Like what you see? Visit the ' +\n",
              "            '<a target=\"_blank\" href=https://colab.research.google.com/notebooks/data_table.ipynb>data table notebook</a>'\n",
              "            + ' to learn more about interactive tables.';\n",
              "          element.innerHTML = '';\n",
              "          dataTable['output_type'] = 'display_data';\n",
              "          await google.colab.output.renderOutput(dataTable, element);\n",
              "          const docLink = document.createElement('div');\n",
              "          docLink.innerHTML = docLinkHtml;\n",
              "          element.appendChild(docLink);\n",
              "        }\n",
              "      </script>\n",
              "    </div>\n",
              "  </div>\n",
              "  "
            ]
          },
          "metadata": {},
          "execution_count": 6
        }
      ]
    },
    {
      "cell_type": "code",
      "source": [
        "scales = alt.Scale(domain = [0.5,1.0],\n",
        "           range = ['#5587B4','#4E91CB','#6CA1DF','#9DDAF3','#BAE9FF','white','#F4C78F','#F58B21','#EE6C21'],\n",
        "           #range = ['#2B5C8A','#6CA1DF','white','#F58B21'],\n",
        "           #scheme = 'spectral',reverse = True, type = 'log'\n",
        ")\n",
        "\n",
        "base2 = alt.Chart(bert,title = 'Birthdays in United States, 1994-2003').mark_rect().encode(\n",
        "    alt.X('Articl1:O',title = None,axis=alt.Axis(labels=False,ticks=False,domain=False)),\n",
        "    alt.Y('Article2:O',title = None,axis=alt.Axis(labels=False,ticks=False,domain=False)),\n",
        "    tooltip = [\n",
        "               alt.Tooltip('generator'),\n",
        "               alt.Tooltip('Cosine Similarity')\n",
        "    ]\n",
        ").properties(width = 260,height = 180)\n",
        "\n",
        "map2 = base2.mark_rect(strokeWidth = 0.5, strokeCap = 'square').encode(\n",
        "    alt.Color('Cosine Similarity:Q',\n",
        "              scale = scales,\n",
        "              legend = alt.Legend(title=\"Cosine Similarity\",direction='horizontal',orient='top')),\n",
        "    stroke = alt.condition(\n",
        "        alt.datum.holiday == '0',\n",
        "        alt.value('transparent'), \n",
        "        alt.value('black')  \n",
        "    )\n",
        ")\n",
        "\n",
        "(map2).facet(\n",
        "    column = alt.Facet('month_name:O',\n",
        "              sort = alt.SortField(field='month:O',order='descending'),\n",
        "              title=None,\n",
        "              header=alt.Header(labelFontSize=15)),\n",
        "   row = alt,\n",
        ").properties(\n",
        "    title={\n",
        "      'text': ['Birthdays in United States, 1994-2003'], \n",
        "      \"color\": \"black\",\n",
        "    }\n",
        ").configure_title(\n",
        "    fontSize = 24\n",
        ")"
      ],
      "metadata": {
        "id": "NwuyB1ObXoOX"
      },
      "execution_count": null,
      "outputs": []
    }
  ]
}